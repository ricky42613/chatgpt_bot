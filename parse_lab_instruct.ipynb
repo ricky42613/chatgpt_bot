{
 "cells": [
  {
   "cell_type": "code",
   "execution_count": 2,
   "metadata": {},
   "outputs": [],
   "source": [
    "import json\n",
    "with open('/Users/zihuanxu/Downloads/chatgpt_bot/server/result/20230404011349.json', 'r') as f:\n",
    "    data = json.load(f)"
   ]
  },
  {
   "cell_type": "code",
   "execution_count": 14,
   "metadata": {},
   "outputs": [],
   "source": [
    "import re\n",
    "instruct_follow_data = []\n",
    "\n",
    "for item in data:\n",
    "    tmp_list = re.split('Q[：:]', item['a'])[1:]\n",
    "    for tmp in tmp_list:\n",
    "        pair = re.split('\\|[\\s]A[：:]', tmp)\n",
    "        # print(pair)\n",
    "        instruct = {\n",
    "            \"instruction\": \"Ask the question about Idea Lab\",\n",
    "            \"input\": pair[0],\n",
    "            \"output\": pair[1],\n",
    "        }\n",
    "        instruct_follow_data.append(instruct)"
   ]
  },
  {
   "cell_type": "code",
   "execution_count": 15,
   "metadata": {},
   "outputs": [],
   "source": [
    "with open('lab_instruction.json', 'r') as f:\n",
    "    ori_instruct = json.load(f)\n",
    "ori_instruct += instruct_follow_data\n",
    "with open('lab_instruction_boost.json', 'w') as f:\n",
    "    json.dump(ori_instruct, f, indent=4, ensure_ascii=False)"
   ]
  }
 ],
 "metadata": {
  "kernelspec": {
   "display_name": "Python 3",
   "language": "python",
   "name": "python3"
  },
  "language_info": {
   "codemirror_mode": {
    "name": "ipython",
    "version": 3
   },
   "file_extension": ".py",
   "mimetype": "text/x-python",
   "name": "python",
   "nbconvert_exporter": "python",
   "pygments_lexer": "ipython3",
   "version": "3.9.2"
  },
  "orig_nbformat": 4
 },
 "nbformat": 4,
 "nbformat_minor": 2
}
